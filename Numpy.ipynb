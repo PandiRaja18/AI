{
  "nbformat": 4,
  "nbformat_minor": 0,
  "metadata": {
    "colab": {
      "name": "Numpy.ipynb",
      "provenance": [],
      "collapsed_sections": [],
      "authorship_tag": "ABX9TyMhyUQ1fybt9ufSZAycJBd8",
      "include_colab_link": true
    },
    "kernelspec": {
      "name": "python3",
      "display_name": "Python 3"
    }
  },
  "cells": [
    {
      "cell_type": "markdown",
      "metadata": {
        "id": "view-in-github",
        "colab_type": "text"
      },
      "source": [
        "<a href=\"https://colab.research.google.com/github/PandiRaja18/AI/blob/main/Numpy.ipynb\" target=\"_parent\"><img src=\"https://colab.research.google.com/assets/colab-badge.svg\" alt=\"Open In Colab\"/></a>"
      ]
    },
    {
      "cell_type": "markdown",
      "metadata": {
        "id": "FRBF2wvrhezA"
      },
      "source": [
        "**Numby** Basics with **Matrix**"
      ]
    },
    {
      "cell_type": "code",
      "metadata": {
        "colab": {
          "base_uri": "https://localhost:8080/"
        },
        "id": "np6yEcE2elG-",
        "outputId": "fa88b4dd-92a2-4594-f370-0f154e55d093"
      },
      "source": [
        "import numpy as np\r\n",
        "#one dimentional matrix (we said)\r\n",
        "a=np.array([1,2,3,4])\r\n",
        "print(a)\r\n",
        "print(a.shape) #Elements in a row\r\n",
        "print(type(a)) #numpy nd array is also known as Matrix\r\n"
      ],
      "execution_count": 2,
      "outputs": [
        {
          "output_type": "stream",
          "text": [
            "[1 2 3 4]\n",
            "(4,)\n",
            "<class 'numpy.ndarray'>\n"
          ],
          "name": "stdout"
        }
      ]
    },
    {
      "cell_type": "code",
      "metadata": {
        "colab": {
          "base_uri": "https://localhost:8080/"
        },
        "id": "yf3aS0V4hAjF",
        "outputId": "74f0cf10-d8d9-44e2-e9f0-8cd1b452f4a5"
      },
      "source": [
        "b=np.array([1.1,2.2,3.3])\r\n",
        "print(b)\r\n",
        "print(b.shape) #Elements in a row\r\n",
        "print(type(b))"
      ],
      "execution_count": 5,
      "outputs": [
        {
          "output_type": "stream",
          "text": [
            "[1.1 2.2 3.3]\n",
            "(3,)\n",
            "<class 'numpy.ndarray'>\n"
          ],
          "name": "stdout"
        }
      ]
    },
    {
      "cell_type": "markdown",
      "metadata": {
        "id": "Y8wwYgpHh7cg"
      },
      "source": [
        "Access elements"
      ]
    },
    {
      "cell_type": "code",
      "metadata": {
        "colab": {
          "base_uri": "https://localhost:8080/"
        },
        "id": "bdMqbPEdhy2M",
        "outputId": "3570a554-042e-4ef2-f775-825d67f310c0"
      },
      "source": [
        "print(a[0])\r\n",
        "print(b[2])\r\n",
        "print(type(a[2]))\r\n",
        "print(type(b[1]))"
      ],
      "execution_count": 6,
      "outputs": [
        {
          "output_type": "stream",
          "text": [
            "1\n",
            "3.3\n",
            "<class 'numpy.int64'>\n",
            "<class 'numpy.float64'>\n"
          ],
          "name": "stdout"
        }
      ]
    },
    {
      "cell_type": "markdown",
      "metadata": {
        "id": "jEF5cf1QihC2"
      },
      "source": [
        "**2X2** **Matrix**"
      ]
    },
    {
      "cell_type": "code",
      "metadata": {
        "colab": {
          "base_uri": "https://localhost:8080/"
        },
        "id": "Dd5WRUkniX_u",
        "outputId": "dd17543b-a087-4c54-fcc5-6dd524f6e0bf"
      },
      "source": [
        "c=np.array([[1,2],[3,4]])\r\n",
        "print(c)\r\n",
        "print(\"Shape of the matrix is\",c.shape)"
      ],
      "execution_count": 9,
      "outputs": [
        {
          "output_type": "stream",
          "text": [
            "[[1 2]\n",
            " [3 4]]\n",
            "Shape of the matrix is (2, 2)\n"
          ],
          "name": "stdout"
        }
      ]
    },
    {
      "cell_type": "code",
      "metadata": {
        "colab": {
          "base_uri": "https://localhost:8080/"
        },
        "id": "oCz52fPiitDH",
        "outputId": "d5d1df4a-db54-4662-b94a-8395d4924fdd"
      },
      "source": [
        "d=np.ones((2,2)) #Matrix of size 2X2 filled with 1's\r\n",
        "print(d)\r\n",
        "print(\"Shape of the Matrix is \",d.shape)\r\n",
        "print(type(d))\r\n",
        "print(type(d[0][0]))\r\n"
      ],
      "execution_count": 3,
      "outputs": [
        {
          "output_type": "stream",
          "text": [
            "[[1. 1.]\n",
            " [1. 1.]]\n",
            "Shape of the Matrix is  (2, 2)\n",
            "<class 'numpy.ndarray'>\n",
            "<class 'numpy.float64'>\n"
          ],
          "name": "stdout"
        }
      ]
    },
    {
      "cell_type": "code",
      "metadata": {
        "colab": {
          "base_uri": "https://localhost:8080/"
        },
        "id": "4z3s0k4ZBE7H",
        "outputId": "6b74dc3f-a64a-418d-a874-0e1453bee2d3"
      },
      "source": [
        "e=np.zeros((4,4)) #Matrix of size 4 X 4 filled with 0's\r\n",
        "print(e)\r\n",
        "print(\"Shape of the Matrix is \",e.shape)\r\n",
        "print(type(e))\r\n",
        "print(type(e[1][1])) #The matrix is created by Float Datatype."
      ],
      "execution_count": 12,
      "outputs": [
        {
          "output_type": "stream",
          "text": [
            "[[0. 0. 0. 0.]\n",
            " [0. 0. 0. 0.]\n",
            " [0. 0. 0. 0.]\n",
            " [0. 0. 0. 0.]]\n",
            "Shape of the Matrix is  (4, 4)\n",
            "<class 'numpy.ndarray'>\n",
            "<class 'numpy.float64'>\n"
          ],
          "name": "stdout"
        }
      ]
    },
    {
      "cell_type": "markdown",
      "metadata": {
        "id": "KSPYbmNBCxpv"
      },
      "source": [
        "**Random** **matrix**"
      ]
    },
    {
      "cell_type": "code",
      "metadata": {
        "colab": {
          "base_uri": "https://localhost:8080/"
        },
        "id": "GaCOT-6LBgtF",
        "outputId": "e9b7a6d9-8b70-4472-b6fb-8d5e3a999704"
      },
      "source": [
        "# A 2 x 2 Matrix created with random numbers\r\n",
        "f=np.random.random((2,2)) \r\n",
        "print(\"The matrix created Randomly\")\r\n",
        "print(f)\r\n",
        "print(f.shape)"
      ],
      "execution_count": 10,
      "outputs": [
        {
          "output_type": "stream",
          "text": [
            "The matrix created Randomly\n",
            "[[0.96803881 0.95736395]\n",
            " [0.50759691 0.03136637]]\n",
            "(2, 2)\n"
          ],
          "name": "stdout"
        }
      ]
    },
    {
      "cell_type": "markdown",
      "metadata": {
        "id": "Vc0_GxGmFFGw"
      },
      "source": [
        "**Expand Dimensions**"
      ]
    },
    {
      "cell_type": "code",
      "metadata": {
        "colab": {
          "base_uri": "https://localhost:8080/"
        },
        "id": "4MXcg2rjCCu5",
        "outputId": "2cbac8a3-e528-4f4d-eee3-e7d3d10b9135"
      },
      "source": [
        "#1 x 3 Matrix\r\n",
        "arr=np.array([100,200,300])\r\n",
        "print(\"Given Matrix :\")\r\n",
        "print(arr)\r\n",
        "print(arr.shape)\r\n",
        "\r\n",
        "#Insert a new axis along the row\r\n",
        "b=np.expand_dims(arr,axis=0)\r\n",
        "\r\n",
        "#Insert a new axis along the column\r\n",
        "c=np.expand_dims(arr,axis=1)\r\n",
        "\r\n",
        "print(\"Extended Matrix along Row :\")\r\n",
        "print(b)\r\n",
        "print(b.shape)\r\n",
        "print(\"Extended Matrix along Column :\")\r\n",
        "print(c)\r\n",
        "print(c.shape)\r\n",
        "\r\n",
        "#The above both function outputs like transpose of a matrix. "
      ],
      "execution_count": 16,
      "outputs": [
        {
          "output_type": "stream",
          "text": [
            "Given Matrix :\n",
            "[100 200 300]\n",
            "(3,)\n",
            "Extended Matrix along Row :\n",
            "[[100 200 300]]\n",
            "(1, 3)\n",
            "Extended Matrix along Column :\n",
            "[[100]\n",
            " [200]\n",
            " [300]]\n",
            "(3, 1)\n"
          ],
          "name": "stdout"
        }
      ]
    },
    {
      "cell_type": "markdown",
      "metadata": {
        "id": "MPfg8Kn2HI4U"
      },
      "source": [
        "**Unique** **Elements**"
      ]
    },
    {
      "cell_type": "code",
      "metadata": {
        "colab": {
          "base_uri": "https://localhost:8080/"
        },
        "id": "tuvtdQ0gGVxd",
        "outputId": "e1b61f01-309d-491a-95a4-78eaf74864d3"
      },
      "source": [
        "m_arr=np.array([1,2,1,1,3])\r\n",
        "\r\n",
        "#Get the unique elements and their Indices\r\n",
        "n,indices = np.unique(m_arr,return_index=True)\r\n",
        "print(\"Unique Elements :\",n)\r\n",
        "print(\"Their Indices   :\",indices) \r\n",
        "\r\n",
        "\"\"\"Application :\r\n",
        "we can use this numpy to communicate the data within the Library\r\n",
        "\"\"\"\r\n"
      ],
      "execution_count": 19,
      "outputs": [
        {
          "output_type": "stream",
          "text": [
            "Unique Elements : [1 2 3]\n",
            "Their Indices   : [0 1 4]\n"
          ],
          "name": "stdout"
        }
      ]
    },
    {
      "cell_type": "code",
      "metadata": {
        "id": "_vQzBZfUHyvB"
      },
      "source": [
        ""
      ],
      "execution_count": null,
      "outputs": []
    }
  ]
}