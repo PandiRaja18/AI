{
 "cells": [
  {
   "cell_type": "code",
   "execution_count": 3,
   "metadata": {},
   "outputs": [
    {
     "data": {
      "text/plain": [
       "''"
      ]
     },
     "execution_count": 3,
     "metadata": {},
     "output_type": "execute_result"
    }
   ],
   "source": [
    "'''\n",
    "Write a Simple interest program using python.\n",
    "\n",
    "Simple interest formula is given by:\n",
    "Simple Interest = (P x T x R)/100\n",
    "Where,\n",
    "P is the principle amount\n",
    "T is the time and\n",
    "R is the rate\n",
    "\n",
    "Get the required inputs from the user, calculate SI and display.\n",
    "'''\n",
    "''"
   ]
  },
  {
   "cell_type": "code",
   "execution_count": 4,
   "metadata": {},
   "outputs": [
    {
     "data": {
      "text/plain": [
       "120.0"
      ]
     },
     "execution_count": 4,
     "metadata": {},
     "output_type": "execute_result"
    }
   ],
   "source": [
    "1000*2*6/100"
   ]
  },
  {
   "cell_type": "code",
   "execution_count": 5,
   "metadata": {},
   "outputs": [
    {
     "data": {
      "text/plain": [
       "1120"
      ]
     },
     "execution_count": 5,
     "metadata": {},
     "output_type": "execute_result"
    }
   ],
   "source": [
    "1000+120\n",
    "\n"
   ]
  },
  {
   "cell_type": "code",
   "execution_count": 7,
   "metadata": {},
   "outputs": [
    {
     "name": "stdout",
     "output_type": "stream",
     "text": [
      "Enter principal Amount:\n",
      " 4256\n",
      "Enter Rate of Interest:\n",
      " 7\n",
      "Enter Time Period:\n",
      " 34\n",
      "\n",
      "The simple interest is 10129.28 and the total amount is 14385.28\n"
     ]
    }
   ],
   "source": [
    "p = float(input(\"Enter principal Amount:\\n \"))\n",
    "r = float(input(\"Enter Rate of Interest:\\n \"))\n",
    "t = float(input(\"Enter Time Period:\\n \"))\n",
    "si = p*r*t/100\n",
    "ta = p + si\n",
    "print(\"\\nThe simple interest is {} and the total amount is {}\".format(si,ta))"
   ]
  },
  {
   "cell_type": "code",
   "execution_count": 9,
   "metadata": {},
   "outputs": [
    {
     "data": {
      "text/plain": [
       "''"
      ]
     },
     "execution_count": 9,
     "metadata": {},
     "output_type": "execute_result"
    }
   ],
   "source": [
    "'''\n",
    "Write a program to find if it is an armstrong number.\n",
    "\n",
    "How is Armstrong number calculated?\n",
    "A number is an Armstrong Number or narcissistic number,\n",
    "if it is equal to the sum of its own digits raised to,\n",
    "the power of the number of digits.\n",
    "An example: 371 = 3^3 + 7^3 + 1^3 = 27 + 343 + 1.\n",
    "Another: 1634 = 1^4 + 6^4 + 3^4 + 4^4 = 1 + 1296 + 81 + 256.\n",
    "\n",
    "'''\n",
    "''"
   ]
  },
  {
   "cell_type": "code",
   "execution_count": 25,
   "metadata": {},
   "outputs": [
    {
     "name": "stdout",
     "output_type": "stream",
     "text": [
      "Enter a number:\n",
      "0\n",
      "Armstrong Number\n"
     ]
    }
   ],
   "source": [
    "n = input(\"Enter a number:\\n\")\n",
    "s = 0\n",
    "for i in n:\n",
    "    i = int(i)\n",
    "    s = s + i*i*i\n",
    "    \n",
    "if n == str(s):\n",
    "    print(\"Armstrong Number\")\n",
    "else:\n",
    "    print(\"Not an Armstrong Number\")\n",
    "\n"
   ]
  },
  {
   "cell_type": "code",
   "execution_count": 27,
   "metadata": {},
   "outputs": [
    {
     "data": {
      "text/plain": [
       "''"
      ]
     },
     "execution_count": 27,
     "metadata": {},
     "output_type": "execute_result"
    }
   ],
   "source": [
    "'''\n",
    "Write a program to check if the entered username\n",
    "and password are matching the stored username and password.\n",
    "\n",
    "'''\n",
    "''"
   ]
  },
  {
   "cell_type": "code",
   "execution_count": 29,
   "metadata": {},
   "outputs": [
    {
     "name": "stdout",
     "output_type": "stream",
     "text": [
      "Enter Username:  Admin\n",
      "Enter Password:  Pass\n",
      "Login Successful!\n"
     ]
    }
   ],
   "source": [
    "u = \"Admin\"\n",
    "p = \"Pass\"\n",
    "un = input(\"Enter Username:  \")\n",
    "ps = input(\"Enter Password:  \")\n",
    "\n",
    "if u == un and p == ps:\n",
    "    print(\"Login Successful!\")\n",
    "else:\n",
    "    print(\"invalid Credentials!\")"
   ]
  },
  {
   "cell_type": "code",
   "execution_count": 31,
   "metadata": {},
   "outputs": [
    {
     "data": {
      "text/plain": [
       "''"
      ]
     },
     "execution_count": 31,
     "metadata": {},
     "output_type": "execute_result"
    }
   ],
   "source": [
    "'''\n",
    "Write a program to generate Fibonacci series,\n",
    "for the first n numbers.\n",
    "\n",
    "It is a series of numbers in which each number ( Fibonacci number ) is\n",
    "the sum of the two preceding numbers.\n",
    "The simplest is the series 0, 1, 1, 2, 3, 5, 8, etc.\n",
    "'''\n",
    "''"
   ]
  },
  {
   "cell_type": "code",
   "execution_count": 35,
   "metadata": {},
   "outputs": [
    {
     "name": "stdout",
     "output_type": "stream",
     "text": [
      "Enter n value: 5\n",
      "0\n",
      "1\n",
      "1\n",
      "2\n",
      "3\n"
     ]
    }
   ],
   "source": [
    "a = -1\n",
    "b = 1\n",
    "c = 0\n",
    "n = int(input(\"Enter n value: \"))\n",
    "for i in range(n):\n",
    "    c = a+b\n",
    "    print(c)\n",
    "    a=b\n",
    "    b=c"
   ]
  },
  {
   "cell_type": "code",
   "execution_count": 37,
   "metadata": {},
   "outputs": [
    {
     "data": {
      "text/plain": [
       "''"
      ]
     },
     "execution_count": 37,
     "metadata": {},
     "output_type": "execute_result"
    }
   ],
   "source": [
    "'''\n",
    "Write a program to check whether a given number is prime.\n",
    "'''\n",
    "''"
   ]
  },
  {
   "cell_type": "code",
   "execution_count": 60,
   "metadata": {},
   "outputs": [
    {
     "name": "stdout",
     "output_type": "stream",
     "text": [
      "It's a prime number\n"
     ]
    }
   ],
   "source": [
    "n = 3\n",
    "for i in range(2,n):\n",
    "    if n%i == 0:\n",
    "        print(\"Its not a prime number\")\n",
    "        break\n",
    "    else:\n",
    "        print(\"It's a prime number\")"
   ]
  },
  {
   "cell_type": "code",
   "execution_count": null,
   "metadata": {},
   "outputs": [],
   "source": []
  }
 ],
 "metadata": {
  "kernelspec": {
   "display_name": "Python 3",
   "language": "python",
   "name": "python3"
  },
  "language_info": {
   "codemirror_mode": {
    "name": "ipython",
    "version": 3
   },
   "file_extension": ".py",
   "mimetype": "text/x-python",
   "name": "python",
   "nbconvert_exporter": "python",
   "pygments_lexer": "ipython3",
   "version": "3.7.4"
  }
 },
 "nbformat": 4,
 "nbformat_minor": 2
}
